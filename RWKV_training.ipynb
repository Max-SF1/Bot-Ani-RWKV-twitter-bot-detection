{
  "cells": [
    {
      "cell_type": "markdown",
      "source": [
        "Loading the data"
      ],
      "metadata": {
        "id": "Z4oxK0xuz7aW"
      }
    },
    {
      "cell_type": "code",
      "execution_count": null,
      "metadata": {
        "colab": {
          "base_uri": "https://localhost:8080/",
          "height": 73
        },
        "id": "rCSPf8AnDCKK",
        "outputId": "7e604acf-de3a-492c-fc61-1e174ecef800"
      },
      "outputs": [
        {
          "output_type": "display_data",
          "data": {
            "text/plain": [
              "<IPython.core.display.HTML object>"
            ],
            "text/html": [
              "\n",
              "     <input type=\"file\" id=\"files-e3b531e9-93b7-4939-9693-ade2f9b9ad9f\" name=\"files[]\" multiple disabled\n",
              "        style=\"border:none\" />\n",
              "     <output id=\"result-e3b531e9-93b7-4939-9693-ade2f9b9ad9f\">\n",
              "      Upload widget is only available when the cell has been executed in the\n",
              "      current browser session. Please rerun this cell to enable.\n",
              "      </output>\n",
              "      <script>// Copyright 2017 Google LLC\n",
              "//\n",
              "// Licensed under the Apache License, Version 2.0 (the \"License\");\n",
              "// you may not use this file except in compliance with the License.\n",
              "// You may obtain a copy of the License at\n",
              "//\n",
              "//      http://www.apache.org/licenses/LICENSE-2.0\n",
              "//\n",
              "// Unless required by applicable law or agreed to in writing, software\n",
              "// distributed under the License is distributed on an \"AS IS\" BASIS,\n",
              "// WITHOUT WARRANTIES OR CONDITIONS OF ANY KIND, either express or implied.\n",
              "// See the License for the specific language governing permissions and\n",
              "// limitations under the License.\n",
              "\n",
              "/**\n",
              " * @fileoverview Helpers for google.colab Python module.\n",
              " */\n",
              "(function(scope) {\n",
              "function span(text, styleAttributes = {}) {\n",
              "  const element = document.createElement('span');\n",
              "  element.textContent = text;\n",
              "  for (const key of Object.keys(styleAttributes)) {\n",
              "    element.style[key] = styleAttributes[key];\n",
              "  }\n",
              "  return element;\n",
              "}\n",
              "\n",
              "// Max number of bytes which will be uploaded at a time.\n",
              "const MAX_PAYLOAD_SIZE = 100 * 1024;\n",
              "\n",
              "function _uploadFiles(inputId, outputId) {\n",
              "  const steps = uploadFilesStep(inputId, outputId);\n",
              "  const outputElement = document.getElementById(outputId);\n",
              "  // Cache steps on the outputElement to make it available for the next call\n",
              "  // to uploadFilesContinue from Python.\n",
              "  outputElement.steps = steps;\n",
              "\n",
              "  return _uploadFilesContinue(outputId);\n",
              "}\n",
              "\n",
              "// This is roughly an async generator (not supported in the browser yet),\n",
              "// where there are multiple asynchronous steps and the Python side is going\n",
              "// to poll for completion of each step.\n",
              "// This uses a Promise to block the python side on completion of each step,\n",
              "// then passes the result of the previous step as the input to the next step.\n",
              "function _uploadFilesContinue(outputId) {\n",
              "  const outputElement = document.getElementById(outputId);\n",
              "  const steps = outputElement.steps;\n",
              "\n",
              "  const next = steps.next(outputElement.lastPromiseValue);\n",
              "  return Promise.resolve(next.value.promise).then((value) => {\n",
              "    // Cache the last promise value to make it available to the next\n",
              "    // step of the generator.\n",
              "    outputElement.lastPromiseValue = value;\n",
              "    return next.value.response;\n",
              "  });\n",
              "}\n",
              "\n",
              "/**\n",
              " * Generator function which is called between each async step of the upload\n",
              " * process.\n",
              " * @param {string} inputId Element ID of the input file picker element.\n",
              " * @param {string} outputId Element ID of the output display.\n",
              " * @return {!Iterable<!Object>} Iterable of next steps.\n",
              " */\n",
              "function* uploadFilesStep(inputId, outputId) {\n",
              "  const inputElement = document.getElementById(inputId);\n",
              "  inputElement.disabled = false;\n",
              "\n",
              "  const outputElement = document.getElementById(outputId);\n",
              "  outputElement.innerHTML = '';\n",
              "\n",
              "  const pickedPromise = new Promise((resolve) => {\n",
              "    inputElement.addEventListener('change', (e) => {\n",
              "      resolve(e.target.files);\n",
              "    });\n",
              "  });\n",
              "\n",
              "  const cancel = document.createElement('button');\n",
              "  inputElement.parentElement.appendChild(cancel);\n",
              "  cancel.textContent = 'Cancel upload';\n",
              "  const cancelPromise = new Promise((resolve) => {\n",
              "    cancel.onclick = () => {\n",
              "      resolve(null);\n",
              "    };\n",
              "  });\n",
              "\n",
              "  // Wait for the user to pick the files.\n",
              "  const files = yield {\n",
              "    promise: Promise.race([pickedPromise, cancelPromise]),\n",
              "    response: {\n",
              "      action: 'starting',\n",
              "    }\n",
              "  };\n",
              "\n",
              "  cancel.remove();\n",
              "\n",
              "  // Disable the input element since further picks are not allowed.\n",
              "  inputElement.disabled = true;\n",
              "\n",
              "  if (!files) {\n",
              "    return {\n",
              "      response: {\n",
              "        action: 'complete',\n",
              "      }\n",
              "    };\n",
              "  }\n",
              "\n",
              "  for (const file of files) {\n",
              "    const li = document.createElement('li');\n",
              "    li.append(span(file.name, {fontWeight: 'bold'}));\n",
              "    li.append(span(\n",
              "        `(${file.type || 'n/a'}) - ${file.size} bytes, ` +\n",
              "        `last modified: ${\n",
              "            file.lastModifiedDate ? file.lastModifiedDate.toLocaleDateString() :\n",
              "                                    'n/a'} - `));\n",
              "    const percent = span('0% done');\n",
              "    li.appendChild(percent);\n",
              "\n",
              "    outputElement.appendChild(li);\n",
              "\n",
              "    const fileDataPromise = new Promise((resolve) => {\n",
              "      const reader = new FileReader();\n",
              "      reader.onload = (e) => {\n",
              "        resolve(e.target.result);\n",
              "      };\n",
              "      reader.readAsArrayBuffer(file);\n",
              "    });\n",
              "    // Wait for the data to be ready.\n",
              "    let fileData = yield {\n",
              "      promise: fileDataPromise,\n",
              "      response: {\n",
              "        action: 'continue',\n",
              "      }\n",
              "    };\n",
              "\n",
              "    // Use a chunked sending to avoid message size limits. See b/62115660.\n",
              "    let position = 0;\n",
              "    do {\n",
              "      const length = Math.min(fileData.byteLength - position, MAX_PAYLOAD_SIZE);\n",
              "      const chunk = new Uint8Array(fileData, position, length);\n",
              "      position += length;\n",
              "\n",
              "      const base64 = btoa(String.fromCharCode.apply(null, chunk));\n",
              "      yield {\n",
              "        response: {\n",
              "          action: 'append',\n",
              "          file: file.name,\n",
              "          data: base64,\n",
              "        },\n",
              "      };\n",
              "\n",
              "      let percentDone = fileData.byteLength === 0 ?\n",
              "          100 :\n",
              "          Math.round((position / fileData.byteLength) * 100);\n",
              "      percent.textContent = `${percentDone}% done`;\n",
              "\n",
              "    } while (position < fileData.byteLength);\n",
              "  }\n",
              "\n",
              "  // All done.\n",
              "  yield {\n",
              "    response: {\n",
              "      action: 'complete',\n",
              "    }\n",
              "  };\n",
              "}\n",
              "\n",
              "scope.google = scope.google || {};\n",
              "scope.google.colab = scope.google.colab || {};\n",
              "scope.google.colab._files = {\n",
              "  _uploadFiles,\n",
              "  _uploadFilesContinue,\n",
              "};\n",
              "})(self);\n",
              "</script> "
            ]
          },
          "metadata": {}
        },
        {
          "output_type": "stream",
          "name": "stdout",
          "text": [
            "Saving Processed_dataset.parquet to Processed_dataset.parquet\n"
          ]
        }
      ],
      "source": [
        "from google.colab import drive, files\n",
        "import pandas as pd\n",
        "\n",
        "uploaded = files.upload() #upload the data\n",
        "\n",
        "df= pd.read_parquet(\"Processed_dataset.parquet\")\n"
      ]
    },
    {
      "cell_type": "code",
      "source": [
        "!pip install pyarrow\n",
        "!pip install fastparquet\n"
      ],
      "metadata": {
        "colab": {
          "base_uri": "https://localhost:8080/"
        },
        "id": "nH0kJbwV1VCB",
        "outputId": "bcafd275-9aa8-4dc4-fb0c-55ccdf7a0ece"
      },
      "execution_count": null,
      "outputs": [
        {
          "output_type": "stream",
          "name": "stdout",
          "text": [
            "Requirement already satisfied: pyarrow in /usr/local/lib/python3.10/dist-packages (14.0.2)\n",
            "Requirement already satisfied: numpy>=1.16.6 in /usr/local/lib/python3.10/dist-packages (from pyarrow) (1.26.4)\n",
            "Collecting fastparquet\n",
            "  Downloading fastparquet-2024.5.0-cp310-cp310-manylinux_2_17_x86_64.manylinux2014_x86_64.whl.metadata (4.1 kB)\n",
            "Requirement already satisfied: pandas>=1.5.0 in /usr/local/lib/python3.10/dist-packages (from fastparquet) (2.1.4)\n",
            "Requirement already satisfied: numpy in /usr/local/lib/python3.10/dist-packages (from fastparquet) (1.26.4)\n",
            "Collecting cramjam>=2.3 (from fastparquet)\n",
            "  Downloading cramjam-2.8.3-cp310-cp310-manylinux_2_17_x86_64.manylinux2014_x86_64.whl.metadata (4.2 kB)\n",
            "Requirement already satisfied: fsspec in /usr/local/lib/python3.10/dist-packages (from fastparquet) (2024.6.1)\n",
            "Requirement already satisfied: packaging in /usr/local/lib/python3.10/dist-packages (from fastparquet) (24.1)\n",
            "Requirement already satisfied: python-dateutil>=2.8.2 in /usr/local/lib/python3.10/dist-packages (from pandas>=1.5.0->fastparquet) (2.8.2)\n",
            "Requirement already satisfied: pytz>=2020.1 in /usr/local/lib/python3.10/dist-packages (from pandas>=1.5.0->fastparquet) (2024.1)\n",
            "Requirement already satisfied: tzdata>=2022.1 in /usr/local/lib/python3.10/dist-packages (from pandas>=1.5.0->fastparquet) (2024.1)\n",
            "Requirement already satisfied: six>=1.5 in /usr/local/lib/python3.10/dist-packages (from python-dateutil>=2.8.2->pandas>=1.5.0->fastparquet) (1.16.0)\n",
            "Downloading fastparquet-2024.5.0-cp310-cp310-manylinux_2_17_x86_64.manylinux2014_x86_64.whl (1.7 MB)\n",
            "\u001b[2K   \u001b[90m━━━━━━━━━━━━━━━━━━━━━━━━━━━━━━━━━━━━━━━━\u001b[0m \u001b[32m1.7/1.7 MB\u001b[0m \u001b[31m46.6 MB/s\u001b[0m eta \u001b[36m0:00:00\u001b[0m\n",
            "\u001b[?25hDownloading cramjam-2.8.3-cp310-cp310-manylinux_2_17_x86_64.manylinux2014_x86_64.whl (2.0 MB)\n",
            "\u001b[2K   \u001b[90m━━━━━━━━━━━━━━━━━━━━━━━━━━━━━━━━━━━━━━━━\u001b[0m \u001b[32m2.0/2.0 MB\u001b[0m \u001b[31m59.1 MB/s\u001b[0m eta \u001b[36m0:00:00\u001b[0m\n",
            "\u001b[?25hInstalling collected packages: cramjam, fastparquet\n",
            "Successfully installed cramjam-2.8.3 fastparquet-2024.5.0\n"
          ]
        }
      ]
    },
    {
      "cell_type": "markdown",
      "source": [
        "Analyzing Normalized Feature Usage in Bot and Human Accounts"
      ],
      "metadata": {
        "id": "fkWlssrF0Dmm"
      }
    },
    {
      "cell_type": "code",
      "source": [
        "import pandas as pd\n",
        "import matplotlib.pyplot as plt\n",
        "\n",
        "# Load the parquet file\n",
        "file_path = 'Processed_dataset.parquet'  # Replace with the actual file path\n",
        "df = pd.read_parquet(file_path)\n",
        "\n",
        "# Select only the specified features\n",
        "selected_features = ['has_mention', 'has_url', 'has_emoji', 'default_profile', 'default_profile_image', 'verified', 'geo_enabled', 'has_gmail']\n",
        "\n",
        "# Count the total number of bots (label = 1) and humans (label = 0)\n",
        "total_counts = df['label'].value_counts()\n",
        "\n",
        "# Separate counts for bots and humans\n",
        "num_bots = total_counts.get(1, 0)  # Get the count of bots (label = 1), default to 0 if not present\n",
        "num_humans = total_counts.get(0, 0)  # Get the count of humans (label = 0), default to 0 if not present\n",
        "\n",
        "# Count the number of bots (label = 1) and humans (label = 0) for each selected feature\n",
        "result = df.groupby('label')[selected_features].sum()\n",
        "\n",
        "# Ensure the result DataFrame is using a floating-point dtype\n",
        "result = result.astype(float)\n",
        "\n",
        "# Normalize the counts by the total number of bots and humans\n",
        "result.loc[1] = result.loc[1] / num_bots  # Normalize bot counts\n",
        "result.loc[0] = result.loc[0] / num_humans  # Normalize human counts\n",
        "\n",
        "# Rename the indices for better understanding\n",
        "result.index = ['Human', 'Bot']\n",
        "\n",
        "# Plot the data with specified colors\n",
        "result.T.plot(kind='bar', figsize=(10, 6), color=['green', 'red'])\n",
        "plt.title('Normalized Feature Usage by Bots and Humans')\n",
        "plt.xlabel('Features')\n",
        "plt.ylabel('Proportion of Bots and Humans Using Each Feature')\n",
        "plt.xticks(rotation=45, ha='right')\n",
        "plt.legend(title='Label')\n",
        "plt.tight_layout()\n",
        "\n",
        "# Save the figure\n",
        "plt.savefig('normalized_feature_usage_by_bots_and_humans.png', dpi=300, bbox_inches='tight')\n",
        "\n",
        "# Show the plot\n",
        "plt.show()\n"
      ],
      "metadata": {
        "colab": {
          "base_uri": "https://localhost:8080/",
          "height": 607
        },
        "id": "GACTGBqE1ipz",
        "outputId": "29b1b8fe-dfed-4b5a-82e3-f31d7b67e68f"
      },
      "execution_count": null,
      "outputs": [
        {
          "output_type": "display_data",
          "data": {
            "text/plain": [
              "<Figure size 1000x600 with 1 Axes>"
            ],
            "image/png": "[encoded data removed]"
          },
          "metadata": {}
        }
      ]
    },
    {
      "cell_type": "markdown",
      "source": [
        "Custom RWKV-Based Model for Multi-Modal Classification Integrating Text and Numerical Features"
      ],
      "metadata": {
        "id": "sEaKXxnnoGfi"
      }
    },
    {
      "cell_type": "code",
      "execution_count": null,
      "metadata": {
        "colab": {
          "base_uri": "https://localhost:8080/"
        },
        "id": "9VaXgNpTF5Bs",
        "outputId": "901cd483-7231-49aa-dba7-e6b7a13c04ac"
      },
      "outputs": [
        {
          "output_type": "stream",
          "name": "stderr",
          "text": [
            "/usr/local/lib/python3.10/dist-packages/huggingface_hub/utils/_token.py:89: UserWarning: \n",
            "The secret `HF_TOKEN` does not exist in your Colab secrets.\n",
            "To authenticate with the Hugging Face Hub, create a token in your settings tab (https://huggingface.co/settings/tokens), set it as secret in your Google Colab and restart your session.\n",
            "You will be able to reuse this secret in all of your notebooks.\n",
            "Please note that authentication is recommended but still optional to access public models or datasets.\n",
            "  warnings.warn(\n",
            "Special tokens have been added in the vocabulary, make sure the associated word embeddings are fine-tuned or trained.\n"
          ]
        }
      ],
      "source": [
        "import torch.nn as nn\n",
        "import torch\n",
        "from transformers import AutoModel, AutoTokenizer\n",
        "device = torch.device(\"cuda\" if torch.cuda.is_available() else \"cpu\")\n",
        "# Load the RWKV model\n",
        "model = AutoModel.from_pretrained(\"RWKV/rwkv-4-169m-pile\")\n",
        "tokenizer = AutoTokenizer.from_pretrained(\"RWKV/rwkv-4-169m-pile\")\n",
        "\n",
        "# Add special tokens and adjust embeddings\n",
        "special_tokens_dict = {'pad_token': '[PAD]', 'cls_token': '[CLS]', 'sep_token': '[SEP]'}\n",
        "tokenizer.add_special_tokens(special_tokens_dict)\n",
        "model.resize_token_embeddings(len(tokenizer))\n",
        "\n",
        "class ClassificationHead(nn.Module):\n",
        "    def __init__(self, hidden_size, num_labels):\n",
        "        super(ClassificationHead, self).__init__()\n",
        "        self.dense = nn.Linear(hidden_size, hidden_size)\n",
        "        self.dropout = nn.Dropout(0.1)\n",
        "        self.out_proj = nn.Linear(hidden_size, num_labels)\n",
        "\n",
        "    def forward(self, x):\n",
        "        x = self.dropout(x)\n",
        "        x = self.dense(x)\n",
        "        x = torch.relu(x)\n",
        "        x = self.dropout(x)\n",
        "        x = self.out_proj(x)\n",
        "        return x\n",
        "\n",
        "class RWKVForClassification(nn.Module):\n",
        "    def __init__(self, model, num_labels, num_features):\n",
        "        super(RWKVForClassification, self).__init__()\n",
        "        self.model = model\n",
        "\n",
        "        # Linear layer for numerical features, transforms their dimensions to the size of the hidden state for later concatenation\n",
        "        self.feature_layer = nn.Linear(num_features, self.model.config.hidden_size)\n",
        "\n",
        "        # Classification head\n",
        "        self.classifier = ClassificationHead(self.model.config.hidden_size * 2, num_labels) #a linear layer that takes in the hidden state as well as the concatenated features, and outputs a probability.\n",
        "\n",
        "    def forward(self, input_ids, attention_mask=None, features=None):\n",
        "        # Forward pass through the RWKV model for text inputs\n",
        "        outputs = self.model(input_ids=input_ids, attention_mask=attention_mask)\n",
        "        cls_output = outputs.last_hidden_state[:, 0, :].clone()  # Make a copy to avoid in-place operation\n",
        "\n",
        "        # Forward pass for numerical features\n",
        "        feature_output = self.feature_layer(features)\n",
        "\n",
        "        # Concatenate the outputs from the text model and numerical features\n",
        "        combined_output = torch.cat((cls_output, feature_output), dim=1)\n",
        "\n",
        "        # Pass through the classification head\n",
        "        logits = self.classifier(combined_output)\n",
        "        return logits\n",
        "\n",
        "# Define number of labels for your classification task\n",
        "num_labels = len(df['label'].unique())  # Replace with your actual number of classes\n",
        "num_features = df.drop(columns=['label', 'description', 'location']).shape[1]\n",
        "\n",
        "classification_model = RWKVForClassification(model, num_labels, num_features)\n",
        "\n"
      ]
    },
    {
      "cell_type": "markdown",
      "source": [
        "Custom PyTorch Dataset for Multi-Modal Data: Integrating Textual and Numerical Features"
      ],
      "metadata": {
        "id": "dE_NV5NR2NRW"
      }
    },
    {
      "cell_type": "code",
      "execution_count": null,
      "metadata": {
        "id": "fUwEnUZXVzWI"
      },
      "outputs": [],
      "source": [
        "import torch\n",
        "from torch.utils.data import Dataset\n",
        "import numpy as np\n",
        "\n",
        "class CustomDataset(Dataset):\n",
        "    def __init__(self, dataframe, tokenizer, max_len):\n",
        "        self.dataframe = dataframe\n",
        "\n",
        "        # Convert all boolean columns to integers and handle non-numeric columns\n",
        "        for column in self.dataframe.columns:\n",
        "            if self.dataframe[column].dtype == 'bool':\n",
        "                self.dataframe[column] = self.dataframe[column].astype(int)\n",
        "            elif self.dataframe[column].dtype == 'object' and column not in ['description', 'location']:\n",
        "                # Convert non-text categorical columns to numerical using label encoding\n",
        "                self.dataframe[column] = self.dataframe[column].astype('category').cat.codes\n",
        "\n",
        "        # Extract features, excluding the text columns and the label column\n",
        "        self.features = dataframe.drop(columns=['label', 'description', 'location']).values\n",
        "        self.label = dataframe['label'].values\n",
        "        self.tokenizer = tokenizer\n",
        "        self.max_len = max_len\n",
        "\n",
        "    def __len__(self):\n",
        "        return len(self.dataframe)\n",
        "\n",
        "    def __getitem__(self, idx):\n",
        "        # Process the 'description' field\n",
        "        description = str(self.dataframe.iloc[idx]['description'])\n",
        "        description_encoding = self.tokenizer.encode_plus(\n",
        "            description,\n",
        "            add_special_tokens=True,\n",
        "            max_length=self.max_len,\n",
        "            return_token_type_ids=False,\n",
        "            padding='max_length',\n",
        "            truncation=True,\n",
        "            return_attention_mask=True,\n",
        "            return_tensors='pt'\n",
        "        )\n",
        "\n",
        "        # Process the 'location' field\n",
        "        location = str(self.dataframe.iloc[idx]['location'])\n",
        "        location_encoding = self.tokenizer.encode_plus(\n",
        "            location,\n",
        "            add_special_tokens=True,\n",
        "            max_length=self.max_len,\n",
        "            return_token_type_ids=False,\n",
        "            padding='max_length',\n",
        "            truncation=True,\n",
        "            return_attention_mask=True,\n",
        "            return_tensors='pt'\n",
        "        )\n",
        "\n",
        "        # Combine both textual features' input_ids and attention_masks\n",
        "        input_ids = torch.cat([description_encoding['input_ids'], location_encoding['input_ids']], dim=1).flatten()\n",
        "        attention_mask = torch.cat([description_encoding['attention_mask'], location_encoding['attention_mask']], dim=1).flatten()\n",
        "\n",
        "        # Process the numerical/boolean features\n",
        "        x_features = torch.tensor(self.features[idx], dtype=torch.float32)\n",
        "\n",
        "        # Get the label\n",
        "        y = torch.tensor(self.label[idx], dtype=torch.float32)\n",
        "\n",
        "\n",
        "\n",
        "        return {\n",
        "            'input_ids': input_ids,\n",
        "            'attention_mask': attention_mask,\n",
        "            'features': x_features,\n",
        "            'label': y\n",
        "        }\n"
      ]
    },
    {
      "cell_type": "markdown",
      "source": [
        "Calculating Zero-One Loss for Model Evaluation on Validation Data"
      ],
      "metadata": {
        "id": "fu7XVHDLbM0g"
      }
    },
    {
      "cell_type": "code",
      "source": [
        "from sklearn.metrics import accuracy_score\n",
        "\n",
        "# Function to calculate Zero-One Loss for the validation set\n",
        "def calculate_zero_one_loss(dataloader, model, device):\n",
        "    model.eval()  # Set the model to evaluation mode\n",
        "    all_preds = []\n",
        "    all_labels = []\n",
        "\n",
        "    with torch.no_grad():\n",
        "        for batch in dataloader:\n",
        "            input_ids = batch['input_ids'].to(device)\n",
        "            attention_mask = batch['attention_mask'].to(device)\n",
        "            features = batch['features'].to(device)\n",
        "            labels = batch['label'].to(device)\n",
        "\n",
        "            outputs = model(input_ids=input_ids, attention_mask=attention_mask, features=features)\n",
        "            preds = torch.argmax(outputs, dim=1)\n",
        "\n",
        "            all_preds.extend(preds.cpu().numpy())\n",
        "            all_labels.extend(labels.cpu().numpy())\n",
        "\n",
        "    # Calculate Zero-One Loss (1 - accuracy)\n",
        "    zero_one_loss = 1 - accuracy_score(all_labels, all_preds)\n",
        "    return zero_one_loss\n"
      ],
      "metadata": {
        "id": "PbjHlLmSbLYE"
      },
      "execution_count": null,
      "outputs": []
    },
    {
      "cell_type": "markdown",
      "source": [
        "Data Preparation and Loader Setup for Training, Validation, and Testing Splits"
      ],
      "metadata": {
        "id": "w-ZjuDLh2cIU"
      }
    },
    {
      "cell_type": "code",
      "source": [
        "import torch\n",
        "import torch.nn as nn\n",
        "from sklearn.metrics import zero_one_loss\n",
        "from sklearn.model_selection import train_test_split\n",
        "from transformers import AdamW, get_linear_schedule_with_warmup\n",
        "from torch.utils.data import DataLoader\n",
        "import os\n",
        "from torch.utils.data import Subset\n",
        "\n",
        "# Step 1: Split the DataFrame into training (80%) and temp (20%) sets\n",
        "train_df, temp_df = train_test_split(df, test_size=0.2, random_state=42)\n",
        "\n",
        "# Step 2: Split the temp set into validation (10%) and test (10%) sets\n",
        "val_df, test_df = train_test_split(temp_df, test_size=0.5, random_state=42)\n",
        "\n",
        "# Step 3: Create the CustomDataset instances\n",
        "train_dataset = CustomDataset(train_df, tokenizer, 128)\n",
        "val_dataset = CustomDataset(val_df, tokenizer, 128)\n",
        "test_dataset = CustomDataset(test_df, tokenizer, 128)\n",
        "\n",
        "# Step 4: Create the DataLoaders\n",
        "train_dataloader = DataLoader(train_dataset, batch_size=32, shuffle=True)\n",
        "val_dataloader = DataLoader(val_dataset, batch_size=32, shuffle=False)\n",
        "test_dataloader = DataLoader(test_dataset, batch_size=32, shuffle=False)"
      ],
      "metadata": {
        "id": "krzcXgPYmr7j"
      },
      "execution_count": null,
      "outputs": []
    },
    {
      "cell_type": "markdown",
      "source": [
        "Training and Evaluating a Classification Model, Cross Entropy and Zero-One Loss Analysis\n",
        "\n",
        "\n"
      ],
      "metadata": {
        "id": "O12zv_rmZ-Ag"
      }
    },
    {
      "cell_type": "code",
      "source": [
        "import torch\n",
        "import torch.nn as nn\n",
        "from sklearn.metrics import zero_one_loss\n",
        "from sklearn.model_selection import train_test_split\n",
        "from transformers import AdamW, get_linear_schedule_with_warmup\n",
        "from torch.utils.data import DataLoader\n",
        "import os\n",
        "from torch.utils.data import Subset\n",
        "from google.colab import drive\n",
        "\n",
        "\n",
        "# Define the device: use GPU if available, otherwise use CPU\n",
        "device = torch.device(\"cuda\" if torch.cuda.is_available() else \"cpu\")\n",
        "\n",
        "# Move model to device\n",
        "classification_model = classification_model.to(device)\n",
        "\n",
        "# Define optimizer, scheduler, and loss function\n",
        "criterion = nn.CrossEntropyLoss().to(device)\n",
        "\n",
        "# Function to calculate Cross Entropy Loss for the validation set\n",
        "def calculate_cross_entropy_loss(dataloader, model, device, criterion):\n",
        "    model.eval()  # Set the model to evaluation mode\n",
        "    total_loss = 0\n",
        "\n",
        "    with torch.no_grad():\n",
        "        for batch in dataloader:\n",
        "            input_ids = batch['input_ids'].to(device)\n",
        "            attention_mask = batch['attention_mask'].to(device)\n",
        "            features = batch['features'].to(device)\n",
        "            labels = batch['label'].to(device)\n",
        "\n",
        "            outputs = model(input_ids=input_ids, attention_mask=attention_mask, features=features)\n",
        "            loss = criterion(outputs, labels.long())  # Use long for Cross Entropy loss\n",
        "            total_loss += loss.item()\n",
        "\n",
        "    avg_loss = total_loss / len(dataloader)\n",
        "    return avg_loss\n",
        "\n",
        "# Training and evaluation loop with a fixed learning rate per run\n",
        "def train_model_fixed_lr(model, train_dataloader, val_dataloader, device, initial_lr, epochs):\n",
        "    zero_one_losses = []\n",
        "    ce_losses = []\n",
        "\n",
        "    optimizer = AdamW(model.parameters(), lr=initial_lr, correct_bias=False)\n",
        "    scheduler = get_linear_schedule_with_warmup(optimizer, num_warmup_steps=0, num_training_steps=len(train_dataloader) * epochs)\n",
        "\n",
        "    for epoch in range(epochs):\n",
        "        model.train()\n",
        "        total_train_loss = 0\n",
        "\n",
        "        for batch in train_dataloader:\n",
        "            input_ids = batch['input_ids'].to(device)\n",
        "            attention_mask = batch['attention_mask'].to(device)\n",
        "            features = batch['features'].to(device)\n",
        "            labels = batch['label'].to(device)\n",
        "\n",
        "            optimizer.zero_grad()\n",
        "            outputs = model(input_ids=input_ids, attention_mask=attention_mask, features=features)\n",
        "            loss = criterion(outputs, labels.long())  # Use long for Cross Entropy loss\n",
        "            loss.backward()\n",
        "            optimizer.step()\n",
        "            scheduler.step()\n",
        "\n",
        "            total_train_loss += loss.item()\n",
        "\n",
        "        avg_train_loss = total_train_loss / len(train_dataloader)\n",
        "        print(f\"Epoch {epoch + 6}, Learning Rate: {initial_lr:.5f}, Training Loss: {avg_train_loss:.4f}\")\n",
        "\n",
        "        # Calculate Zero-One Loss and Cross Entropy Loss on the validation set\n",
        "        val_zero_one_loss = calculate_zero_one_loss(val_dataloader, model, device)\n",
        "        val_ce_loss = calculate_cross_entropy_loss(val_dataloader, model, device, criterion)\n",
        "\n",
        "        zero_one_losses.append(val_zero_one_loss)\n",
        "        ce_losses.append(val_ce_loss)\n",
        "\n",
        "        print(f\"Zero-One Loss: {val_zero_one_loss:.4f}, Cross Entropy Loss: {val_ce_loss:.4f}\")\n",
        "\n",
        "        # Save the model checkpoint\n",
        "        checkpoint_path = f'model_lr_{initial_lr}_epoch_{epoch + 6}.pth'\n",
        "        torch.save(model.state_dict(), checkpoint_path)\n",
        "        print(f\"Model saved to {checkpoint_path}\")\n",
        "        # To download files\n",
        "        files.download(checkpoint_path)\n",
        "\n",
        "    return zero_one_losses, ce_losses\n",
        "\n",
        "# List of initial learning rates to try\n",
        "#learning_rates = [1.5e-5, 2e-5, 2.5e-5]\n",
        "learning_rates = [2e-5]\n",
        "\n",
        "# Storage for results\n",
        "all_zero_one_losses = {}\n",
        "all_ce_losses = {}\n",
        "\n",
        "# Train the model with different initial learning rates\n",
        "for lr in learning_rates:\n",
        "    print(f\"\\nTraining with initial learning rate: {lr}\\n\")\n",
        "\n",
        "    # Reset the model to its initial state before each training run\n",
        "    model = classification_model  # Re-initialize your model if needed\n",
        "    model.apply(lambda m: m.reset_parameters() if hasattr(m, 'reset_parameters') else None)  # Reset model parameters if possible\n",
        "\n",
        "    zero_one_losses, ce_losses = train_model_fixed_lr(model, train_dataloader, val_dataloader, device, lr, epochs=5)\n",
        "    all_zero_one_losses[lr] = zero_one_losses\n",
        "    all_ce_losses[lr] = ce_losses\n",
        "\n",
        "\n",
        "\n",
        "\n",
        "\n",
        "\n"
      ],
      "metadata": {
        "id": "lxZczi0z6Vrv",
        "colab": {
          "base_uri": "https://localhost:8080/",
          "height": 638
        },
        "outputId": "a4d475d2-af89-4305-b7b8-058f2846cd06"
      },
      "execution_count": null,
      "outputs": [
        {
          "metadata": {
            "tags": null
          },
          "name": "stdout",
          "output_type": "stream",
          "text": [
            "\n",
            "Training with initial learning rate: 2e-05\n",
            "\n"
          ]
        },
        {
          "metadata": {
            "tags": null
          },
          "name": "stderr",
          "output_type": "stream",
          "text": [
            "/usr/local/lib/python3.10/dist-packages/transformers/optimization.py:591: FutureWarning: This implementation of AdamW is deprecated and will be removed in a future version. Use the PyTorch implementation torch.optim.AdamW instead, or set `no_deprecation_warning=True` to disable this warning\n",
            "  warnings.warn(\n"
          ]
        },
        {
          "metadata": {
            "tags": null
          },
          "name": "stdout",
          "output_type": "stream",
          "text": [
            "Epoch 6, Learning Rate: 0.00002, Training Loss: 2177.1608\n",
            "Zero-One Loss: 0.1901, Cross Entropy Loss: 2559.6452\n",
            "Model saved to model_lr_2e-05_epoch_6.pth\n"
          ]
        },
        {
          "data": {
            "application/javascript": [
              "\n",
              "    async function download(id, filename, size) {\n",
              "      if (!google.colab.kernel.accessAllowed) {\n",
              "        return;\n",
              "      }\n",
              "      const div = document.createElement('div');\n",
              "      const label = document.createElement('label');\n",
              "      label.textContent = `Downloading \"${filename}\": `;\n",
              "      div.appendChild(label);\n",
              "      const progress = document.createElement('progress');\n",
              "      progress.max = size;\n",
              "      div.appendChild(progress);\n",
              "      document.body.appendChild(div);\n",
              "\n",
              "      const buffers = [];\n",
              "      let downloaded = 0;\n",
              "\n",
              "      const channel = await google.colab.kernel.comms.open(id);\n",
              "      // Send a message to notify the kernel that we're ready.\n",
              "      channel.send({})\n",
              "\n",
              "      for await (const message of channel.messages) {\n",
              "        // Send a message to notify the kernel that we're ready.\n",
              "        channel.send({})\n",
              "        if (message.buffers) {\n",
              "          for (const buffer of message.buffers) {\n",
              "            buffers.push(buffer);\n",
              "            downloaded += buffer.byteLength;\n",
              "            progress.value = downloaded;\n",
              "          }\n",
              "        }\n",
              "      }\n",
              "      const blob = new Blob(buffers, {type: 'application/binary'});\n",
              "      const a = document.createElement('a');\n",
              "      a.href = window.URL.createObjectURL(blob);\n",
              "      a.download = filename;\n",
              "      div.appendChild(a);\n",
              "      a.click();\n",
              "      div.remove();\n",
              "    }\n",
              "  "
            ],
            "text/plain": [
              "<IPython.core.display.Javascript object>"
            ]
          },
          "metadata": {},
          "output_type": "display_data"
        },
        {
          "data": {
            "application/javascript": [
              "download(\"download_2aa17f13-a58d-4cab-ab29-7d928105bf74\", \"model_lr_2e-05_epoch_6.pth\", 532535797)"
            ],
            "text/plain": [
              "<IPython.core.display.Javascript object>"
            ]
          },
          "metadata": {},
          "output_type": "display_data"
        },
        {
          "metadata": {
            "tags": null
          },
          "name": "stdout",
          "output_type": "stream",
          "text": [
            "Epoch 7, Learning Rate: 0.00002, Training Loss: 1418.9170\n",
            "Zero-One Loss: 0.2183, Cross Entropy Loss: 678.4954\n",
            "Model saved to model_lr_2e-05_epoch_7.pth\n"
          ]
        },
        {
          "data": {
            "application/javascript": [
              "\n",
              "    async function download(id, filename, size) {\n",
              "      if (!google.colab.kernel.accessAllowed) {\n",
              "        return;\n",
              "      }\n",
              "      const div = document.createElement('div');\n",
              "      const label = document.createElement('label');\n",
              "      label.textContent = `Downloading \"${filename}\": `;\n",
              "      div.appendChild(label);\n",
              "      const progress = document.createElement('progress');\n",
              "      progress.max = size;\n",
              "      div.appendChild(progress);\n",
              "      document.body.appendChild(div);\n",
              "\n",
              "      const buffers = [];\n",
              "      let downloaded = 0;\n",
              "\n",
              "      const channel = await google.colab.kernel.comms.open(id);\n",
              "      // Send a message to notify the kernel that we're ready.\n",
              "      channel.send({})\n",
              "\n",
              "      for await (const message of channel.messages) {\n",
              "        // Send a message to notify the kernel that we're ready.\n",
              "        channel.send({})\n",
              "        if (message.buffers) {\n",
              "          for (const buffer of message.buffers) {\n",
              "            buffers.push(buffer);\n",
              "            downloaded += buffer.byteLength;\n",
              "            progress.value = downloaded;\n",
              "          }\n",
              "        }\n",
              "      }\n",
              "      const blob = new Blob(buffers, {type: 'application/binary'});\n",
              "      const a = document.createElement('a');\n",
              "      a.href = window.URL.createObjectURL(blob);\n",
              "      a.download = filename;\n",
              "      div.appendChild(a);\n",
              "      a.click();\n",
              "      div.remove();\n",
              "    }\n",
              "  "
            ],
            "text/plain": [
              "<IPython.core.display.Javascript object>"
            ]
          },
          "metadata": {},
          "output_type": "display_data"
        },
        {
          "data": {
            "application/javascript": [
              "download(\"download_a36957ef-45a0-4550-a940-a8a99bbd4f74\", \"model_lr_2e-05_epoch_7.pth\", 532535797)"
            ],
            "text/plain": [
              "<IPython.core.display.Javascript object>"
            ]
          },
          "metadata": {},
          "output_type": "display_data"
        },
        {
          "metadata": {
            "tags": null
          },
          "name": "stdout",
          "output_type": "stream",
          "text": [
            "Epoch 8, Learning Rate: 0.00002, Training Loss: 982.1462\n",
            "Zero-One Loss: 0.1836, Cross Entropy Loss: 786.2744\n",
            "Model saved to model_lr_2e-05_epoch_8.pth\n"
          ]
        },
        {
          "data": {
            "application/javascript": [
              "\n",
              "    async function download(id, filename, size) {\n",
              "      if (!google.colab.kernel.accessAllowed) {\n",
              "        return;\n",
              "      }\n",
              "      const div = document.createElement('div');\n",
              "      const label = document.createElement('label');\n",
              "      label.textContent = `Downloading \"${filename}\": `;\n",
              "      div.appendChild(label);\n",
              "      const progress = document.createElement('progress');\n",
              "      progress.max = size;\n",
              "      div.appendChild(progress);\n",
              "      document.body.appendChild(div);\n",
              "\n",
              "      const buffers = [];\n",
              "      let downloaded = 0;\n",
              "\n",
              "      const channel = await google.colab.kernel.comms.open(id);\n",
              "      // Send a message to notify the kernel that we're ready.\n",
              "      channel.send({})\n",
              "\n",
              "      for await (const message of channel.messages) {\n",
              "        // Send a message to notify the kernel that we're ready.\n",
              "        channel.send({})\n",
              "        if (message.buffers) {\n",
              "          for (const buffer of message.buffers) {\n",
              "            buffers.push(buffer);\n",
              "            downloaded += buffer.byteLength;\n",
              "            progress.value = downloaded;\n",
              "          }\n",
              "        }\n",
              "      }\n",
              "      const blob = new Blob(buffers, {type: 'application/binary'});\n",
              "      const a = document.createElement('a');\n",
              "      a.href = window.URL.createObjectURL(blob);\n",
              "      a.download = filename;\n",
              "      div.appendChild(a);\n",
              "      a.click();\n",
              "      div.remove();\n",
              "    }\n",
              "  "
            ],
            "text/plain": [
              "<IPython.core.display.Javascript object>"
            ]
          },
          "metadata": {},
          "output_type": "display_data"
        },
        {
          "data": {
            "application/javascript": [
              "download(\"download_4a1c694c-3856-456e-a4c5-74a3941587e1\", \"model_lr_2e-05_epoch_8.pth\", 532535797)"
            ],
            "text/plain": [
              "<IPython.core.display.Javascript object>"
            ]
          },
          "metadata": {},
          "output_type": "display_data"
        },
        {
          "output_type": "stream",
          "name": "stdout",
          "text": [
            "Epoch 9, Learning Rate: 0.00002, Training Loss: 838.1009\n",
            "Epoch 9, Learning Rate: 0.00002, Training Loss: 838.1009\n",
            "Zero-One Loss: 0.1826, Cross Entropy Loss: 454.7462\n",
            "Zero-One Loss: 0.1826, Cross Entropy Loss: 454.7462\n",
            "Model saved to model_lr_2e-05_epoch_9.pth\n",
            "Model saved to model_lr_2e-05_epoch_9.pth\n"
          ]
        },
        {
          "output_type": "display_data",
          "data": {
            "text/plain": [
              "<IPython.core.display.Javascript object>"
            ],
            "application/javascript": [
              "\n",
              "    async function download(id, filename, size) {\n",
              "      if (!google.colab.kernel.accessAllowed) {\n",
              "        return;\n",
              "      }\n",
              "      const div = document.createElement('div');\n",
              "      const label = document.createElement('label');\n",
              "      label.textContent = `Downloading \"${filename}\": `;\n",
              "      div.appendChild(label);\n",
              "      const progress = document.createElement('progress');\n",
              "      progress.max = size;\n",
              "      div.appendChild(progress);\n",
              "      document.body.appendChild(div);\n",
              "\n",
              "      const buffers = [];\n",
              "      let downloaded = 0;\n",
              "\n",
              "      const channel = await google.colab.kernel.comms.open(id);\n",
              "      // Send a message to notify the kernel that we're ready.\n",
              "      channel.send({})\n",
              "\n",
              "      for await (const message of channel.messages) {\n",
              "        // Send a message to notify the kernel that we're ready.\n",
              "        channel.send({})\n",
              "        if (message.buffers) {\n",
              "          for (const buffer of message.buffers) {\n",
              "            buffers.push(buffer);\n",
              "            downloaded += buffer.byteLength;\n",
              "            progress.value = downloaded;\n",
              "          }\n",
              "        }\n",
              "      }\n",
              "      const blob = new Blob(buffers, {type: 'application/binary'});\n",
              "      const a = document.createElement('a');\n",
              "      a.href = window.URL.createObjectURL(blob);\n",
              "      a.download = filename;\n",
              "      div.appendChild(a);\n",
              "      a.click();\n",
              "      div.remove();\n",
              "    }\n",
              "  "
            ]
          },
          "metadata": {}
        },
        {
          "output_type": "display_data",
          "data": {
            "text/plain": [
              "<IPython.core.display.Javascript object>"
            ],
            "application/javascript": [
              "\n",
              "    async function download(id, filename, size) {\n",
              "      if (!google.colab.kernel.accessAllowed) {\n",
              "        return;\n",
              "      }\n",
              "      const div = document.createElement('div');\n",
              "      const label = document.createElement('label');\n",
              "      label.textContent = `Downloading \"${filename}\": `;\n",
              "      div.appendChild(label);\n",
              "      const progress = document.createElement('progress');\n",
              "      progress.max = size;\n",
              "      div.appendChild(progress);\n",
              "      document.body.appendChild(div);\n",
              "\n",
              "      const buffers = [];\n",
              "      let downloaded = 0;\n",
              "\n",
              "      const channel = await google.colab.kernel.comms.open(id);\n",
              "      // Send a message to notify the kernel that we're ready.\n",
              "      channel.send({})\n",
              "\n",
              "      for await (const message of channel.messages) {\n",
              "        // Send a message to notify the kernel that we're ready.\n",
              "        channel.send({})\n",
              "        if (message.buffers) {\n",
              "          for (const buffer of message.buffers) {\n",
              "            buffers.push(buffer);\n",
              "            downloaded += buffer.byteLength;\n",
              "            progress.value = downloaded;\n",
              "          }\n",
              "        }\n",
              "      }\n",
              "      const blob = new Blob(buffers, {type: 'application/binary'});\n",
              "      const a = document.createElement('a');\n",
              "      a.href = window.URL.createObjectURL(blob);\n",
              "      a.download = filename;\n",
              "      div.appendChild(a);\n",
              "      a.click();\n",
              "      div.remove();\n",
              "    }\n",
              "  "
            ]
          },
          "metadata": {}
        },
        {
          "output_type": "display_data",
          "data": {
            "text/plain": [
              "<IPython.core.display.Javascript object>"
            ],
            "application/javascript": [
              "download(\"download_5c4295de-46b2-4c52-81ea-75618352cc1e\", \"model_lr_2e-05_epoch_9.pth\", 532535797)"
            ]
          },
          "metadata": {}
        },
        {
          "output_type": "display_data",
          "data": {
            "text/plain": [
              "<IPython.core.display.Javascript object>"
            ],
            "application/javascript": [
              "download(\"download_5c4295de-46b2-4c52-81ea-75618352cc1e\", \"model_lr_2e-05_epoch_9.pth\", 532535797)"
            ]
          },
          "metadata": {}
        },
        {
          "output_type": "stream",
          "name": "stdout",
          "text": [
            "Epoch 10, Learning Rate: 0.00002, Training Loss: 650.4481\n",
            "Epoch 10, Learning Rate: 0.00002, Training Loss: 650.4481\n",
            "Zero-One Loss: 0.1785, Cross Entropy Loss: 565.1024\n",
            "Zero-One Loss: 0.1785, Cross Entropy Loss: 565.1024\n",
            "Model saved to model_lr_2e-05_epoch_10.pth\n",
            "Model saved to model_lr_2e-05_epoch_10.pth\n"
          ]
        },
        {
          "output_type": "display_data",
          "data": {
            "text/plain": [
              "<IPython.core.display.Javascript object>"
            ],
            "application/javascript": [
              "\n",
              "    async function download(id, filename, size) {\n",
              "      if (!google.colab.kernel.accessAllowed) {\n",
              "        return;\n",
              "      }\n",
              "      const div = document.createElement('div');\n",
              "      const label = document.createElement('label');\n",
              "      label.textContent = `Downloading \"${filename}\": `;\n",
              "      div.appendChild(label);\n",
              "      const progress = document.createElement('progress');\n",
              "      progress.max = size;\n",
              "      div.appendChild(progress);\n",
              "      document.body.appendChild(div);\n",
              "\n",
              "      const buffers = [];\n",
              "      let downloaded = 0;\n",
              "\n",
              "      const channel = await google.colab.kernel.comms.open(id);\n",
              "      // Send a message to notify the kernel that we're ready.\n",
              "      channel.send({})\n",
              "\n",
              "      for await (const message of channel.messages) {\n",
              "        // Send a message to notify the kernel that we're ready.\n",
              "        channel.send({})\n",
              "        if (message.buffers) {\n",
              "          for (const buffer of message.buffers) {\n",
              "            buffers.push(buffer);\n",
              "            downloaded += buffer.byteLength;\n",
              "            progress.value = downloaded;\n",
              "          }\n",
              "        }\n",
              "      }\n",
              "      const blob = new Blob(buffers, {type: 'application/binary'});\n",
              "      const a = document.createElement('a');\n",
              "      a.href = window.URL.createObjectURL(blob);\n",
              "      a.download = filename;\n",
              "      div.appendChild(a);\n",
              "      a.click();\n",
              "      div.remove();\n",
              "    }\n",
              "  "
            ]
          },
          "metadata": {}
        },
        {
          "output_type": "display_data",
          "data": {
            "text/plain": [
              "<IPython.core.display.Javascript object>"
            ],
            "application/javascript": [
              "\n",
              "    async function download(id, filename, size) {\n",
              "      if (!google.colab.kernel.accessAllowed) {\n",
              "        return;\n",
              "      }\n",
              "      const div = document.createElement('div');\n",
              "      const label = document.createElement('label');\n",
              "      label.textContent = `Downloading \"${filename}\": `;\n",
              "      div.appendChild(label);\n",
              "      const progress = document.createElement('progress');\n",
              "      progress.max = size;\n",
              "      div.appendChild(progress);\n",
              "      document.body.appendChild(div);\n",
              "\n",
              "      const buffers = [];\n",
              "      let downloaded = 0;\n",
              "\n",
              "      const channel = await google.colab.kernel.comms.open(id);\n",
              "      // Send a message to notify the kernel that we're ready.\n",
              "      channel.send({})\n",
              "\n",
              "      for await (const message of channel.messages) {\n",
              "        // Send a message to notify the kernel that we're ready.\n",
              "        channel.send({})\n",
              "        if (message.buffers) {\n",
              "          for (const buffer of message.buffers) {\n",
              "            buffers.push(buffer);\n",
              "            downloaded += buffer.byteLength;\n",
              "            progress.value = downloaded;\n",
              "          }\n",
              "        }\n",
              "      }\n",
              "      const blob = new Blob(buffers, {type: 'application/binary'});\n",
              "      const a = document.createElement('a');\n",
              "      a.href = window.URL.createObjectURL(blob);\n",
              "      a.download = filename;\n",
              "      div.appendChild(a);\n",
              "      a.click();\n",
              "      div.remove();\n",
              "    }\n",
              "  "
            ]
          },
          "metadata": {}
        },
        {
          "output_type": "display_data",
          "data": {
            "text/plain": [
              "<IPython.core.display.Javascript object>"
            ],
            "application/javascript": [
              "download(\"download_555f727b-0593-4327-a863-7bc5cf3b6194\", \"model_lr_2e-05_epoch_10.pth\", 532536028)"
            ]
          },
          "metadata": {}
        },
        {
          "output_type": "display_data",
          "data": {
            "text/plain": [
              "<IPython.core.display.Javascript object>"
            ],
            "application/javascript": [
              "download(\"download_555f727b-0593-4327-a863-7bc5cf3b6194\", \"model_lr_2e-05_epoch_10.pth\", 532536028)"
            ]
          },
          "metadata": {}
        }
      ]
    },
    {
      "cell_type": "code",
      "source": [
        "\n"
      ],
      "metadata": {
        "colab": {
          "base_uri": "https://localhost:8080/",
          "height": 218
        },
        "id": "rLPe1xWN1PVN",
        "outputId": "8be9ea86-4a4d-47ec-d14f-7c0c49699d6f"
      },
      "execution_count": null,
      "outputs": [
        {
          "output_type": "stream",
          "name": "stdout",
          "text": [
            "\n",
            "Training with initial learning rate: 2e-05\n",
            "\n",
            "Epoch 11, Learning Rate: 0.00002, Training Loss: 2505.0867\n",
            "Zero-One Loss: 0.2047, Cross Entropy Loss: 1997.7912\n",
            "Model saved to model_lr_2e-05_epoch_11.pth\n"
          ]
        },
        {
          "output_type": "display_data",
          "data": {
            "text/plain": [
              "<IPython.core.display.Javascript object>"
            ],
            "application/javascript": [
              "\n",
              "    async function download(id, filename, size) {\n",
              "      if (!google.colab.kernel.accessAllowed) {\n",
              "        return;\n",
              "      }\n",
              "      const div = document.createElement('div');\n",
              "      const label = document.createElement('label');\n",
              "      label.textContent = `Downloading \"${filename}\": `;\n",
              "      div.appendChild(label);\n",
              "      const progress = document.createElement('progress');\n",
              "      progress.max = size;\n",
              "      div.appendChild(progress);\n",
              "      document.body.appendChild(div);\n",
              "\n",
              "      const buffers = [];\n",
              "      let downloaded = 0;\n",
              "\n",
              "      const channel = await google.colab.kernel.comms.open(id);\n",
              "      // Send a message to notify the kernel that we're ready.\n",
              "      channel.send({})\n",
              "\n",
              "      for await (const message of channel.messages) {\n",
              "        // Send a message to notify the kernel that we're ready.\n",
              "        channel.send({})\n",
              "        if (message.buffers) {\n",
              "          for (const buffer of message.buffers) {\n",
              "            buffers.push(buffer);\n",
              "            downloaded += buffer.byteLength;\n",
              "            progress.value = downloaded;\n",
              "          }\n",
              "        }\n",
              "      }\n",
              "      const blob = new Blob(buffers, {type: 'application/binary'});\n",
              "      const a = document.createElement('a');\n",
              "      a.href = window.URL.createObjectURL(blob);\n",
              "      a.download = filename;\n",
              "      div.appendChild(a);\n",
              "      a.click();\n",
              "      div.remove();\n",
              "    }\n",
              "  "
            ]
          },
          "metadata": {}
        },
        {
          "output_type": "display_data",
          "data": {
            "text/plain": [
              "<IPython.core.display.Javascript object>"
            ],
            "application/javascript": [
              "download(\"download_78b810f1-59aa-4788-8c97-f541e41092be\", \"model_lr_2e-05_epoch_11.pth\", 532536028)"
            ]
          },
          "metadata": {}
        },
        {
          "output_type": "stream",
          "name": "stdout",
          "text": [
            "Epoch 12, Learning Rate: 0.00002, Training Loss: 918.2015\n",
            "Zero-One Loss: 0.1809, Cross Entropy Loss: 1100.9224\n",
            "Model saved to model_lr_2e-05_epoch_12.pth\n"
          ]
        },
        {
          "output_type": "display_data",
          "data": {
            "text/plain": [
              "<IPython.core.display.Javascript object>"
            ],
            "application/javascript": [
              "\n",
              "    async function download(id, filename, size) {\n",
              "      if (!google.colab.kernel.accessAllowed) {\n",
              "        return;\n",
              "      }\n",
              "      const div = document.createElement('div');\n",
              "      const label = document.createElement('label');\n",
              "      label.textContent = `Downloading \"${filename}\": `;\n",
              "      div.appendChild(label);\n",
              "      const progress = document.createElement('progress');\n",
              "      progress.max = size;\n",
              "      div.appendChild(progress);\n",
              "      document.body.appendChild(div);\n",
              "\n",
              "      const buffers = [];\n",
              "      let downloaded = 0;\n",
              "\n",
              "      const channel = await google.colab.kernel.comms.open(id);\n",
              "      // Send a message to notify the kernel that we're ready.\n",
              "      channel.send({})\n",
              "\n",
              "      for await (const message of channel.messages) {\n",
              "        // Send a message to notify the kernel that we're ready.\n",
              "        channel.send({})\n",
              "        if (message.buffers) {\n",
              "          for (const buffer of message.buffers) {\n",
              "            buffers.push(buffer);\n",
              "            downloaded += buffer.byteLength;\n",
              "            progress.value = downloaded;\n",
              "          }\n",
              "        }\n",
              "      }\n",
              "      const blob = new Blob(buffers, {type: 'application/binary'});\n",
              "      const a = document.createElement('a');\n",
              "      a.href = window.URL.createObjectURL(blob);\n",
              "      a.download = filename;\n",
              "      div.appendChild(a);\n",
              "      a.click();\n",
              "      div.remove();\n",
              "    }\n",
              "  "
            ]
          },
          "metadata": {}
        },
        {
          "output_type": "display_data",
          "data": {
            "text/plain": [
              "<IPython.core.display.Javascript object>"
            ],
            "application/javascript": [
              "download(\"download_45b7203f-0f83-4560-a6dc-0a8883f216f0\", \"model_lr_2e-05_epoch_12.pth\", 532536028)"
            ]
          },
          "metadata": {}
        }
      ]
    },
    {
      "cell_type": "markdown",
      "source": [
        "Evaluating and Visualizing Zero-One Loss Across Different Learning Rates and Epochs in a Classification Model"
      ],
      "metadata": {
        "id": "cM_fSuB9VCvF"
      }
    },
    {
      "cell_type": "code",
      "source": [
        "import torch\n",
        "import matplotlib.pyplot as plt\n",
        "from sklearn.metrics import accuracy_score\n",
        "\n",
        "# Define the learning rates and epochs you have\n",
        "learning_rates = ['1.5e-05', '2e-05', '2.5e-05']\n",
        "\n",
        "\n",
        "epochs = [1, 2, 3]\n",
        "\n",
        "# Initialize a dictionary to store the Zero-One Loss for each learning rate\n",
        "zero_one_losses = {lr: [] for lr in learning_rates}\n",
        "\n",
        "def evaluate_zero_one_loss(model, dataloader, device):\n",
        "    \"\"\"\n",
        "    Evaluate Zero-One Loss on a dataset.\n",
        "\n",
        "    Parameters:\n",
        "    - model: The model to evaluate.\n",
        "    - dataloader: DataLoader for the dataset (e.g., validation or test set).\n",
        "    - device: The device (CPU or GPU) to run the model on.\n",
        "\n",
        "    Returns:\n",
        "    - Zero-One Loss (1 - accuracy) for the given dataset.\n",
        "    \"\"\"\n",
        "    model.eval()  # Set the model to evaluation mode\n",
        "    all_preds = []\n",
        "    all_labels = []\n",
        "\n",
        "    with torch.no_grad():\n",
        "        for batch in dataloader:\n",
        "            # Move inputs to the specified device\n",
        "            input_ids = batch['input_ids'].to(device)\n",
        "            attention_mask = batch['attention_mask'].to(device)\n",
        "            features = batch['features'].to(device)\n",
        "            labels = batch['label'].to(device)\n",
        "\n",
        "            # Forward pass: get predictions\n",
        "            outputs = model(input_ids=input_ids, attention_mask=attention_mask, features=features)\n",
        "            preds = torch.argmax(outputs, dim=1)\n",
        "\n",
        "            # Store predictions and true labels\n",
        "            all_preds.extend(preds.cpu().numpy())\n",
        "            all_labels.extend(labels.cpu().numpy())\n",
        "\n",
        "    # Calculate Zero-One Loss (1 - accuracy)\n",
        "    zero_one_loss = 1 - accuracy_score(all_labels, all_preds)\n",
        "    return zero_one_loss\n",
        "\n",
        "# Evaluate and store zero-one losses for each learning rate and epoch\n",
        "for lr in learning_rates:\n",
        "    for epoch in epochs:\n",
        "        model_path = f'model_lr_{lr}_epoch_{epoch}.pth'\n",
        "\n",
        "\n",
        "\n",
        "        #classification_model.load_state_dict(torch.load('/content/model_epoch_2.pth'))\n",
        "\n",
        "\n",
        "        # Load the model state dict\n",
        "        classification_model.load_state_dict(torch.load(model_path))\n",
        "\n",
        "        # Define the device: use GPU if available, otherwise use CPU\n",
        "        device = torch.device(\"cuda\" if torch.cuda.is_available() else \"cpu\")\n",
        "\n",
        "        # Move model to device\n",
        "        classification_model = classification_model.to(device)\n",
        "\n",
        "        # Evaluate the zero-one loss\n",
        "        loss = evaluate_zero_one_loss(classification_model, val_dataloader, device)\n",
        "        zero_one_losses[lr].append(loss)\n",
        "\n",
        "# Plotting the results\n",
        "for lr, losses in zero_one_losses.items():\n",
        "    plt.plot(range(1, len(losses) + 1), losses, label=f'LR: {lr}')\n",
        "\n",
        "plt.xlabel('Epoch')\n",
        "plt.ylabel('Zero-One Loss')\n",
        "plt.title('Zero-One Loss per Epoch for Different Learning Rates')\n",
        "plt.legend()\n",
        "plt.grid(True)\n",
        "plt.savefig('zero_one_loss_plot.png')  # Save the plot as a PNG file\n",
        "plt.show()\n"
      ],
      "metadata": {
        "colab": {
          "base_uri": "https://localhost:8080/",
          "height": 472
        },
        "id": "Bq1UPx8NO0rO",
        "outputId": "bf851fb4-a5e0-4da6-f1fd-81bb939cf184"
      },
      "execution_count": 18,
      "outputs": [
        {
          "output_type": "display_data",
          "data": {
            "text/plain": [
              "<Figure size 640x480 with 1 Axes>"
            ],
            "image/png": "[encoded data removed]"
          },
          "metadata": {}
        }
      ]
    },
    {
      "cell_type": "markdown",
      "source": [
        "Evaluating and Visualizing Zero-One Loss Across Epochs for the Selected Learning Rate: 2e-05\n",
        "\n",
        "\n",
        "\n"
      ],
      "metadata": {
        "id": "EnvUII0bMDuD"
      }
    },
    {
      "cell_type": "code",
      "source": [
        "import torch\n",
        "import matplotlib.pyplot as plt\n",
        "from sklearn.metrics import accuracy_score\n",
        "\n",
        "# Define the learning rates and epochs you have\n",
        "\n",
        "learning_rates = [ '2e-05']\n",
        "\n",
        "epochs = [1, 2, 3, 4, 5, 6, 7, 8 ,9, 10, 11, 12]\n",
        "\n",
        "# Initialize a dictionary to store the Zero-One Loss for each learning rate\n",
        "zero_one_losses = {lr: [] for lr in learning_rates}\n",
        "\n",
        "def evaluate_zero_one_loss(model, dataloader, device):\n",
        "    \"\"\"\n",
        "    Evaluate Zero-One Loss on a dataset.\n",
        "\n",
        "    Parameters:\n",
        "    - model: The model to evaluate.\n",
        "    - dataloader: DataLoader for the dataset (e.g., validation or test set).\n",
        "    - device: The device (CPU or GPU) to run the model on.\n",
        "\n",
        "    Returns:\n",
        "    - Zero-One Loss (1 - accuracy) for the given dataset.\n",
        "    \"\"\"\n",
        "    model.eval()  # Set the model to evaluation mode\n",
        "    all_preds = []\n",
        "    all_labels = []\n",
        "\n",
        "    with torch.no_grad():\n",
        "        for batch in dataloader:\n",
        "            # Move inputs to the specified device\n",
        "            input_ids = batch['input_ids'].to(device)\n",
        "            attention_mask = batch['attention_mask'].to(device)\n",
        "            features = batch['features'].to(device)\n",
        "            labels = batch['label'].to(device)\n",
        "\n",
        "            # Forward pass: get predictions\n",
        "            outputs = model(input_ids=input_ids, attention_mask=attention_mask, features=features)\n",
        "            preds = torch.argmax(outputs, dim=1)\n",
        "\n",
        "            # Store predictions and true labels\n",
        "            all_preds.extend(preds.cpu().numpy())\n",
        "            all_labels.extend(labels.cpu().numpy())\n",
        "\n",
        "    # Calculate Zero-One Loss (1 - accuracy)\n",
        "    zero_one_loss = 1 - accuracy_score(all_labels, all_preds)\n",
        "    return zero_one_loss\n",
        "\n",
        "# Evaluate and store zero-one losses for each learning rate and epoch\n",
        "for lr in learning_rates:\n",
        "    for epoch in epochs:\n",
        "        model_path = f'model_lr_{lr}_epoch_{epoch}.pth'\n",
        "\n",
        "\n",
        "\n",
        "        #classification_model.load_state_dict(torch.load('/content/model_epoch_2.pth'))\n",
        "\n",
        "\n",
        "        # Load the model state dict\n",
        "        classification_model.load_state_dict(torch.load(model_path))\n",
        "\n",
        "        # Define the device: use GPU if available, otherwise use CPU\n",
        "        device = torch.device(\"cuda\" if torch.cuda.is_available() else \"cpu\")\n",
        "\n",
        "        # Move model to device\n",
        "        classification_model = classification_model.to(device)\n",
        "\n",
        "        # Evaluate the zero-one loss\n",
        "        loss = evaluate_zero_one_loss(classification_model, val_dataloader, device)\n",
        "        zero_one_losses[lr].append(loss)\n",
        "\n",
        "# Plotting the results\n",
        "for lr, losses in zero_one_losses.items():\n",
        "    plt.plot(range(1, len(losses) + 1), losses, label=f'LR: {lr}')\n",
        "\n",
        "plt.xlabel('Epoch')\n",
        "plt.ylabel('Zero-One Loss')\n",
        "plt.title('Zero-One Loss')\n",
        "plt.legend()\n",
        "plt.grid(True)\n",
        "plt.savefig('zero_one_loss_plot.png')  # Save the plot as a PNG file\n",
        "plt.show()\n"
      ],
      "metadata": {
        "colab": {
          "base_uri": "https://localhost:8080/",
          "height": 472
        },
        "id": "AyAoo0l5tWvS",
        "outputId": "f4ac092e-7b26-4fd5-ba5a-6c1b8af240bc"
      },
      "execution_count": null,
      "outputs": [
        {
          "output_type": "display_data",
          "data": {
            "text/plain": [
              "<Figure size 640x480 with 1 Axes>"
            ],
            "image/png": "[encoded data removed]"
          },
          "metadata": {}
        }
      ]
    },
    {
      "cell_type": "markdown",
      "source": [
        "Evaluating and Visualizing Cross Entropy Loss Across Epochs for Multiple Learning Rates"
      ],
      "metadata": {
        "id": "QKi8L3nG3UB_"
      }
    },
    {
      "cell_type": "code",
      "source": [
        "import torch\n",
        "import torch.nn as nn\n",
        "import matplotlib.pyplot as plt\n",
        "\n",
        "# Define the learning rates and epochs you have\n",
        "learning_rates = ['1.5e-05', '2e-05', '2.5e-05']\n",
        "epochs = [1, 2, 3]\n",
        "\n",
        "# Initialize a dictionary to store the Cross Entropy Loss for each learning rate\n",
        "cross_entropy_losses = {lr: [] for lr in learning_rates}\n",
        "\n",
        "def evaluate_cross_entropy_loss(model, dataloader, device):\n",
        "    \"\"\"\n",
        "    Evaluate Cross Entropy Loss on a dataset.\n",
        "\n",
        "    Parameters:\n",
        "    - model: The model to evaluate.\n",
        "    - dataloader: DataLoader for the dataset (e.g., validation or test set).\n",
        "    - device: The device (CPU or GPU) to run the model on.\n",
        "\n",
        "    Returns:\n",
        "    - Average Cross Entropy Loss for the given dataset.\n",
        "    \"\"\"\n",
        "    model.eval()  # Set the model to evaluation mode\n",
        "    criterion = nn.CrossEntropyLoss()  # Define the Cross Entropy Loss function\n",
        "    total_loss = 0.0\n",
        "    total_samples = 0\n",
        "\n",
        "    with torch.no_grad():\n",
        "        for batch in dataloader:\n",
        "            # Move inputs to the specified device\n",
        "            input_ids = batch['input_ids'].to(device)\n",
        "            attention_mask = batch['attention_mask'].to(device)\n",
        "            features = batch['features'].to(device)\n",
        "            labels = batch['label'].to(device).long()\n",
        "\n",
        "            # Forward pass: get predictions\n",
        "            outputs = model(input_ids=input_ids, attention_mask=attention_mask, features=features)\n",
        "\n",
        "            # Calculate loss\n",
        "            loss = criterion(outputs, labels)\n",
        "            total_loss += loss.item() * labels.size(0)\n",
        "            total_samples += labels.size(0)\n",
        "\n",
        "    # Return the average loss over all samples\n",
        "    avg_loss = total_loss / total_samples\n",
        "    return avg_loss\n",
        "\n",
        "# Evaluate and store Cross Entropy losses for each learning rate and epoch\n",
        "for lr in learning_rates:\n",
        "    for epoch in epochs:\n",
        "        model_path = f'model_lr_{lr}_epoch_{epoch}.pth'\n",
        "\n",
        "        # Load the model state dict\n",
        "        classification_model.load_state_dict(torch.load(model_path))\n",
        "\n",
        "        # Define the device: use GPU if available, otherwise use CPU\n",
        "        device = torch.device(\"cuda\" if torch.cuda.is_available() else \"cpu\")\n",
        "\n",
        "        # Move model to device\n",
        "        classification_model = classification_model.to(device)\n",
        "\n",
        "        # Evaluate the cross entropy loss\n",
        "        loss = evaluate_cross_entropy_loss(classification_model, val_dataloader, device)\n",
        "        cross_entropy_losses[lr].append(loss)\n",
        "\n",
        "# Plotting the results\n",
        "for lr, losses in cross_entropy_losses.items():\n",
        "    plt.plot(range(1, len(losses) + 1), losses, label=f'LR: {lr}')\n",
        "\n",
        "plt.xlabel('Epoch')\n",
        "plt.ylabel('Cross Entropy Loss')\n",
        "plt.title('Cross Entropy Loss per Epoch for Different Learning Rates')\n",
        "plt.legend()\n",
        "plt.grid(True)\n",
        "plt.savefig('cross_entropy_loss_plot.png')  # Save the plot as a PNG file\n",
        "plt.show()\n"
      ],
      "metadata": {
        "colab": {
          "base_uri": "https://localhost:8080/",
          "height": 472
        },
        "id": "_Ck4idnTNptM",
        "outputId": "91c2cf09-d0da-4962-dd7c-0ebfb3bb1180"
      },
      "execution_count": null,
      "outputs": [
        {
          "output_type": "display_data",
          "data": {
            "text/plain": [
              "<Figure size 640x480 with 1 Axes>"
            ],
            "image/png": "[encoded data removed]"
          },
          "metadata": {}
        }
      ]
    },
    {
      "cell_type": "markdown",
      "source": [
        "Tracking Cross Entropy Loss Across Epochs for the Selected Learning Rate: 2e-05"
      ],
      "metadata": {
        "id": "0K6_BFC73giI"
      }
    },
    {
      "cell_type": "code",
      "source": [
        "import torch\n",
        "import torch.nn as nn\n",
        "import matplotlib.pyplot as plt\n",
        "\n",
        "# Define the learning rates and epochs you have\n",
        "learning_rates = [ '2e-05']\n",
        "epochs = [1, 2, 3, 4, 5,6 ,7, 8, 9, 10, 11, 12]\n",
        "\n",
        "# Initialize a dictionary to store the Cross Entropy Loss for each learning rate\n",
        "cross_entropy_losses = {lr: [] for lr in learning_rates}\n",
        "\n",
        "def evaluate_cross_entropy_loss(model, dataloader, device):\n",
        "    \"\"\"\n",
        "    Evaluate Cross Entropy Loss on a dataset.\n",
        "\n",
        "    Parameters:\n",
        "    - model: The model to evaluate.\n",
        "    - dataloader: DataLoader for the dataset (e.g., validation or test set).\n",
        "    - device: The device (CPU or GPU) to run the model on.\n",
        "\n",
        "    Returns:\n",
        "    - Average Cross Entropy Loss for the given dataset.\n",
        "    \"\"\"\n",
        "    model.eval()  # Set the model to evaluation mode\n",
        "    criterion = nn.CrossEntropyLoss()  # Define the Cross Entropy Loss function\n",
        "    total_loss = 0.0\n",
        "    total_samples = 0\n",
        "\n",
        "    with torch.no_grad():\n",
        "        for batch in dataloader:\n",
        "            # Move inputs to the specified device\n",
        "            input_ids = batch['input_ids'].to(device)\n",
        "            attention_mask = batch['attention_mask'].to(device)\n",
        "            features = batch['features'].to(device)\n",
        "            labels = batch['label'].to(device).long()\n",
        "\n",
        "            # Forward pass: get predictions\n",
        "            outputs = model(input_ids=input_ids, attention_mask=attention_mask, features=features)\n",
        "\n",
        "            # Calculate loss\n",
        "            loss = criterion(outputs, labels)\n",
        "            total_loss += loss.item() * labels.size(0)\n",
        "            total_samples += labels.size(0)\n",
        "\n",
        "    # Return the average loss over all samples\n",
        "    avg_loss = total_loss / total_samples\n",
        "    return avg_loss\n",
        "\n",
        "# Evaluate and store Cross Entropy losses for each learning rate and epoch\n",
        "for lr in learning_rates:\n",
        "    for epoch in epochs:\n",
        "        model_path = f'model_lr_{lr}_epoch_{epoch}.pth'\n",
        "\n",
        "        # Load the model state dict\n",
        "        classification_model.load_state_dict(torch.load(model_path))\n",
        "\n",
        "        # Define the device: use GPU if available, otherwise use CPU\n",
        "        device = torch.device(\"cuda\" if torch.cuda.is_available() else \"cpu\")\n",
        "\n",
        "        # Move model to device\n",
        "        classification_model = classification_model.to(device)\n",
        "\n",
        "        # Evaluate the cross entropy loss\n",
        "        loss = evaluate_cross_entropy_loss(classification_model, val_dataloader, device)\n",
        "        cross_entropy_losses[lr].append(loss)\n",
        "\n",
        "# Plotting the results\n",
        "for lr, losses in cross_entropy_losses.items():\n",
        "    plt.plot(range(1, len(losses) + 1), losses, label=f'LR: {lr}')\n",
        "\n",
        "plt.xlabel('Epoch')\n",
        "plt.ylabel('Cross Entropy Loss')\n",
        "plt.title('Cross Entropy Loss ')\n",
        "plt.legend()\n",
        "plt.grid(True)\n",
        "plt.savefig('cross_entropy_loss_plot.png')  # Save the plot as a PNG file\n",
        "plt.show()\n"
      ],
      "metadata": {
        "colab": {
          "base_uri": "https://localhost:8080/",
          "height": 472
        },
        "id": "ZOSmsnsHl27T",
        "outputId": "f9a7f01f-8274-45c0-8ab0-2e2be02b06ba"
      },
      "execution_count": null,
      "outputs": [
        {
          "output_type": "display_data",
          "data": {
            "text/plain": [
              "<Figure size 640x480 with 1 Axes>"
            ],
            "image/png": "[encoded data removed]"
          },
          "metadata": {}
        }
      ]
    },
    {
      "cell_type": "markdown",
      "source": [
        "Loading Best Model Checkpoint (Epoch 5, LR 2e-05) for Accuracy Calculation"
      ],
      "metadata": {
        "id": "xyDlcAfA3kuc"
      }
    },
    {
      "cell_type": "code",
      "source": [
        "classification_model.load_state_dict(torch.load('model_lr_2e-05_epoch_5.pth'))\n"
      ],
      "metadata": {
        "colab": {
          "base_uri": "https://localhost:8080/"
        },
        "id": "5dMK4p6kv1yT",
        "outputId": "877533ef-3181-497a-ea0a-57bd3933999a"
      },
      "execution_count": null,
      "outputs": [
        {
          "output_type": "execute_result",
          "data": {
            "text/plain": [
              "<All keys matched successfully>"
            ]
          },
          "metadata": {},
          "execution_count": 15
        }
      ]
    },
    {
      "cell_type": "markdown",
      "source": [
        "Evaluating Precision, Recall, and Accuracy on the Test Set Using the Best Model Checkpoint"
      ],
      "metadata": {
        "id": "to4i_DeQJvu2"
      }
    },
    {
      "cell_type": "code",
      "source": [
        "from sklearn.metrics import precision_score, recall_score, accuracy_score\n",
        "\n",
        "def calculate_metrics(dataloader, model, device):\n",
        "    model.eval()  # Set the model to evaluation mode\n",
        "    all_preds = []\n",
        "    all_labels = []\n",
        "\n",
        "    with torch.no_grad():\n",
        "        for batch in dataloader:\n",
        "            input_ids = batch['input_ids'].to(device)\n",
        "            attention_mask = batch['attention_mask'].to(device)\n",
        "            features = batch['features'].to(device)\n",
        "            labels = batch['label'].to(device)\n",
        "\n",
        "            outputs = model(input_ids=input_ids, attention_mask=attention_mask, features=features)\n",
        "            _, preds = torch.max(outputs, dim=1)\n",
        "\n",
        "            all_preds.extend(preds.cpu().numpy())\n",
        "            all_labels.extend(labels.cpu().numpy())\n",
        "\n",
        "    # Calculate metrics\n",
        "    precision = precision_score(all_labels, all_preds, average='binary')  # Assuming binary classification\n",
        "    recall = recall_score(all_labels, all_preds, average='binary')\n",
        "    accuracy = accuracy_score(all_labels, all_preds)\n",
        "\n",
        "    return precision, recall, accuracy\n",
        "\n",
        "# Calculate precision, recall, and accuracy on the test set\n",
        "test_precision, test_recall, test_accuracy = calculate_metrics(test_dataloader, classification_model, device)\n",
        "print(f\"Test Precision for learning rate {lr}: {test_precision:.4f}\")\n",
        "print(f\"Test Recall for learning rate {lr}: {test_recall:.4f}\")\n",
        "print(f\"Test Accuracy for learning rate {lr}: {test_accuracy:.4f}\")\n"
      ],
      "metadata": {
        "id": "njrcDDqeJy56",
        "colab": {
          "base_uri": "https://localhost:8080/"
        },
        "outputId": "c967c264-5c61-42b1-efa6-c005f500c4cc"
      },
      "execution_count": null,
      "outputs": [
        {
          "output_type": "stream",
          "name": "stdout",
          "text": [
            "Test Precision for learning rate 2e-05: 0.7272\n",
            "Test Recall for learning rate 2e-05: 0.7196\n",
            "Test Accuracy for learning rate 2e-05: 0.8198\n"
          ]
        }
      ]
    }
  ],
  "metadata": {
    "accelerator": "GPU",
    "colab": {
      "gpuType": "T4",
      "provenance": []
    },
    "kernelspec": {
      "display_name": "Python 3",
      "name": "python3"
    },
    "language_info": {
      "name": "python"
    }
  },
  "nbformat": 4,
  "nbformat_minor": 0
}